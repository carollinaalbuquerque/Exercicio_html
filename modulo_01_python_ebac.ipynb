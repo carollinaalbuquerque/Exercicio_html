{
  "nbformat": 4,
  "nbformat_minor": 0,
  "metadata": {
    "colab": {
      "provenance": [],
      "collapsed_sections": [
        "RIm2_q2AHItw",
        "K22fqHLV-2f_",
        "PpSD-6eBZ96I",
        "V3lofP13VnSl"
      ],
      "include_colab_link": true
    },
    "kernelspec": {
      "name": "python3",
      "display_name": "Python 3"
    },
    "language_info": {
      "name": "python"
    }
  },
  "cells": [
    {
      "cell_type": "markdown",
      "metadata": {
        "id": "view-in-github",
        "colab_type": "text"
      },
      "source": [
        "<a href=\"https://colab.research.google.com/github/carollinaalbuquerque/Exercicio_html/blob/main/modulo_01_python_ebac.ipynb\" target=\"_parent\"><img src=\"https://colab.research.google.com/assets/colab-badge.svg\" alt=\"Open In Colab\"/></a>"
      ]
    },
    {
      "cell_type": "markdown",
      "source": [
        "# **Módulo 01**\n",
        "### Variáveis & Tipos de dados"
      ],
      "metadata": {
        "id": "lcJ02EP2Eej_"
      }
    },
    {
      "cell_type": "markdown",
      "source": [
        "Uma variável é um mecanismo de armazenamento de dados que pode ser editado. Ele é armazenado momentâneamente na mémória Ram enquanto o estiver em uso."
      ],
      "metadata": {
        "id": "zN-U767zFzK0"
      }
    },
    {
      "cell_type": "code",
      "source": [
        "idade = 36\n",
        "print(idade)"
      ],
      "metadata": {
        "colab": {
          "base_uri": "https://localhost:8080/"
        },
        "id": "yZHfiw_-GK3r",
        "outputId": "b70b5305-fc3f-4bd2-ecff-cb8ddfd08bc4"
      },
      "execution_count": null,
      "outputs": [
        {
          "output_type": "stream",
          "name": "stdout",
          "text": [
            "36\n"
          ]
        }
      ]
    },
    {
      "cell_type": "markdown",
      "source": [
        "Acima definimos uma variável, reservamos um espaço na memória para informar que a idade é 36. E logo em seguida usamos o recurso \"print\", que tem a função de apresentar o valor de uma variável ou função na tela."
      ],
      "metadata": {
        "id": "aUw_0wDmGQ5G"
      }
    },
    {
      "cell_type": "markdown",
      "source": [
        "## **Visão rápida sobre as tipagens em Python**"
      ],
      "metadata": {
        "id": "RIm2_q2AHItw"
      }
    },
    {
      "cell_type": "markdown",
      "source": [
        "### **tipos nativos**"
      ],
      "metadata": {
        "id": "oSxn2bdXHg9U"
      }
    },
    {
      "cell_type": "markdown",
      "source": [
        "Este são tipos que já estão disponiveis nativamente com a linguagem Python. Não precisamos criar nada para usar estas ferramentas."
      ],
      "metadata": {
        "id": "9Nc1NGr2H3uA"
      }
    },
    {
      "cell_type": "markdown",
      "source": [
        "**Tipos numéricos:** inteiros(int) e decimais(float):"
      ],
      "metadata": {
        "id": "iFQe0cyLL1pT"
      }
    },
    {
      "cell_type": "code",
      "source": [
        "preco = 1000\n",
        "tipo_preco = type(preco)\n",
        "\n",
        "print(preco)\n",
        "print(tipo_preco)\n",
        "\n",
        "juros = 0.05\n",
        "tipo_juros = type(juros)\n",
        "\n",
        "print(juros)\n",
        "print(tipo_juros)"
      ],
      "metadata": {
        "colab": {
          "base_uri": "https://localhost:8080/"
        },
        "id": "blNfdy7OJCWa",
        "outputId": "57fc163e-e03d-42ea-ccfc-d084ae7f7736"
      },
      "execution_count": null,
      "outputs": [
        {
          "output_type": "stream",
          "name": "stdout",
          "text": [
            "1000\n",
            "<class 'int'>\n",
            "0.05\n",
            "<class 'float'>\n"
          ]
        }
      ]
    },
    {
      "cell_type": "markdown",
      "source": [
        "A função de identificar as variáveis é responsabilidade do back end, então é sempre bom nomear as variáveis de formar que o entendimento de suas funções esteja clara logo no nome. Por exemplo, se temos várias variáveis de preço, ao invés de apenas identificar como \"preco1\", \"preco2\" e por ai vai, defina como \"preco_da_banana\", \"preco_da_maca\". Assim facilita o manuseio de diversas variáveis ao mesmo tempo. Importante que em Python os nomes de variáveis não podem conter espaços, use underlines para separar as palavras (snake_case). E não pode haver uso de letras maiúsculas também."
      ],
      "metadata": {
        "id": "0fDln3iEJrMs"
      }
    },
    {
      "cell_type": "markdown",
      "source": [
        "No exemplo acima também vimos o uso de uma nova ferramenta nas variáveis, o \"type\". Como o próprio nome sugere, ele tem a função de definir o tipo de uma outra variável para o entendimento do código. No exemplo ele esta informando ao sistema os tipos numérios da variável preco, como inteiros(int), e da variável juros como decimais(float)."
      ],
      "metadata": {
        "id": "VgQaeGHLLCCs"
      }
    },
    {
      "cell_type": "markdown",
      "source": [
        "**Tipos de texto:** strings(str):"
      ],
      "metadata": {
        "id": "f22MRNSUONhV"
      }
    },
    {
      "cell_type": "code",
      "source": [
        "primeiro_nome = \"André\"\n",
        "\n",
        "print(primeiro_nome)\n",
        "print(type(primeiro_nome))\n",
        "\n",
        "pais = 'Brasil'\n",
        "\n",
        "print(pais)\n",
        "print(type(pais))"
      ],
      "metadata": {
        "colab": {
          "base_uri": "https://localhost:8080/"
        },
        "id": "j-uN1dsoOXEV",
        "outputId": "7a01bce4-9cc1-4e44-a688-42862fee5a3d"
      },
      "execution_count": null,
      "outputs": [
        {
          "output_type": "stream",
          "name": "stdout",
          "text": [
            "André\n",
            "<class 'str'>\n",
            "Brasil\n",
            "<class 'str'>\n"
          ]
        }
      ]
    },
    {
      "cell_type": "markdown",
      "source": [
        "Os tipos textuais sempre são identificados como *strings*, tanto em Python como em quase todas as outras linguagens de programação. Ao definir um valor como string, este valor sempre deve estar entre aspas, mas em Python tanto faz se for entre aspas simples ou dupla."
      ],
      "metadata": {
        "id": "7BTEw7IWP5t0"
      }
    },
    {
      "cell_type": "markdown",
      "source": [
        "Um novo recurso que vimos acima, é que podemos pedir um print da tipagem(type) de uma variável sem ter que obrigatóriamente criar uma nova variável pedindo este valor. Podemos simplesmente executar um comando print com um comando type dentro dos parênteses, e dentro do type colocar a variável que quer consultar. Assim, simplificando o código e reduzindo linhas desnecessárias."
      ],
      "metadata": {
        "id": "hLznhiBYQhHF"
      }
    },
    {
      "cell_type": "markdown",
      "source": [
        "**Tipos lógicos:** booleanos(bool):"
      ],
      "metadata": {
        "id": "Pf9ngAzCUjnc"
      }
    },
    {
      "cell_type": "code",
      "source": [
        "usuario_maior_de_idade = True\n",
        "\n",
        "print(usuario_maior_de_idade)\n",
        "print(type(usuario_maior_de_idade))\n",
        "\n",
        "usuario_esta_online = False\n",
        "\n",
        "print(usuario_esta_online)\n",
        "print(type(usuario_esta_online))"
      ],
      "metadata": {
        "colab": {
          "base_uri": "https://localhost:8080/"
        },
        "id": "qRIEx4GsHSVT",
        "outputId": "b9a3fa2d-69f2-4275-b8fa-f41d1ab941fc"
      },
      "execution_count": null,
      "outputs": [
        {
          "output_type": "stream",
          "name": "stdout",
          "text": [
            "True\n",
            "<class 'bool'>\n",
            "False\n",
            "<class 'bool'>\n"
          ]
        }
      ]
    },
    {
      "cell_type": "markdown",
      "source": [
        "Os tipos lógicos são muito usados na programação. Sua função são perguntas de respostas diretas de verdadeiro(True) ou falso(False). Lembrando que as respostas de um booleano sempre deve ser com inicial maiúscula."
      ],
      "metadata": {
        "id": "kijxOn9XVPXi"
      }
    },
    {
      "cell_type": "markdown",
      "source": [
        "**Tipo vazio:** None(NoneType)"
      ],
      "metadata": {
        "id": "gmEfHfnsXAZ3"
      }
    },
    {
      "cell_type": "code",
      "source": [
        "telefone_fixo = None\n",
        "\n",
        "print(telefone_fixo)\n",
        "print(type(telefone_fixo))"
      ],
      "metadata": {
        "colab": {
          "base_uri": "https://localhost:8080/"
        },
        "id": "7SGzREv_XOrR",
        "outputId": "98545313-7406-43fa-a757-66b4aee03667"
      },
      "execution_count": null,
      "outputs": [
        {
          "output_type": "stream",
          "name": "stdout",
          "text": [
            "None\n",
            "<class 'NoneType'>\n"
          ]
        }
      ]
    },
    {
      "cell_type": "markdown",
      "source": [
        "Estes são tipos usados para designinar áreas vázias tanto para respostas de preenchimento de váriáveis, quanto para valores iniciais de uma váriável. O exemplo acima mostra que ao preencher um formulário, o usuário está informando ao sistema que não possui um telefone fixo ao responder o None."
      ],
      "metadata": {
        "id": "6sv9aG-MXdtJ"
      }
    },
    {
      "cell_type": "markdown",
      "source": [
        "## **Se aprofundando em variáveis numéricas.**"
      ],
      "metadata": {
        "id": "K22fqHLV-2f_"
      }
    },
    {
      "cell_type": "markdown",
      "source": [
        "### **Definição**"
      ],
      "metadata": {
        "id": "LC9jcgP9AE-_"
      }
    },
    {
      "cell_type": "markdown",
      "source": [
        "Armazenam **valores numéricos**:\n",
        "\n",
        "\n",
        "1.   **Inteiros (int):** 10, 37, 500;\n",
        "2.   **Decimais (float):** 0.333, 10.1;\n",
        "3.   **Complexos (complexos):** 1 + 2j\n",
        "\n"
      ],
      "metadata": {
        "id": "-RU__IAZALy0"
      }
    },
    {
      "cell_type": "code",
      "source": [
        "print(type(37))\n",
        "print(type(10.1))\n",
        "print(type(1 + 2j))"
      ],
      "metadata": {
        "colab": {
          "base_uri": "https://localhost:8080/"
        },
        "id": "t_gz91nSBBeW",
        "outputId": "23b43ac5-e03c-4a26-f2a6-2f5dadacd218"
      },
      "execution_count": null,
      "outputs": [
        {
          "output_type": "stream",
          "name": "stdout",
          "text": [
            "<class 'int'>\n",
            "<class 'float'>\n",
            "<class 'complex'>\n"
          ]
        }
      ]
    },
    {
      "cell_type": "markdown",
      "source": [],
      "metadata": {
        "id": "Fa0DmPaPB7Pb"
      }
    },
    {
      "cell_type": "markdown",
      "source": [
        "### **Operações**"
      ],
      "metadata": {
        "id": "pJ4uIbYGR1D4"
      }
    },
    {
      "cell_type": "markdown",
      "source": [
        "As operações dos tipos númericos tem 4 operações básicas:\n",
        "\n",
        "- .  + (soma);\n",
        "- .  - (subtração);\n",
        "- .  * (multiplicação);\n",
        "- .  / (divisão).\n",
        "\n",
        "Além de operações mais avançadas:\n",
        "- . // (divisão inteira);\n",
        "- . ** (potência ou exponenciação);\n",
        "- . % (resto de divisão)"
      ],
      "metadata": {
        "id": "PpnU0y9LC25i"
      }
    },
    {
      "cell_type": "markdown",
      "source": [
        "**Exemplo 1:** Carrinho de compra de um e-commerce"
      ],
      "metadata": {
        "id": "UbCkZ9y2EtrO"
      }
    },
    {
      "cell_type": "code",
      "source": [
        "qtd_items_carrinho_compra = 0\n",
        "\n",
        "qtd_items_carrinho_compra = qtd_items_carrinho_compra + 1\n",
        "print(qtd_items_carrinho_compra)\n",
        "\n",
        "qtd_items_carrinho_compra = qtd_items_carrinho_compra - 1\n",
        "print(qtd_items_carrinho_compra)"
      ],
      "metadata": {
        "colab": {
          "base_uri": "https://localhost:8080/"
        },
        "id": "WDy7OpRmE5sT",
        "outputId": "a5fbec64-e483-4ab1-d7ae-6dad7521746b"
      },
      "execution_count": null,
      "outputs": [
        {
          "output_type": "stream",
          "name": "stdout",
          "text": [
            "1\n",
            "0\n"
          ]
        }
      ]
    },
    {
      "cell_type": "markdown",
      "source": [
        "Neste exemplo definimos uma variável com o valor inicial de 0. E então definimos que o valor desta variável é ela mesma em seu estado anterior somando + 1 a seu valor final. Em seguida printamos o resultado atualizado. O mesmo processo é feito para subtração, só alterando símbolo da operação."
      ],
      "metadata": {
        "id": "8tb7qDAdKHEK"
      }
    },
    {
      "cell_type": "code",
      "source": [
        "qtd_items_carrinho_compra = 0\n",
        "\n",
        "qtd_items_carrinho_compra += 1\n",
        "print(qtd_items_carrinho_compra)\n",
        "\n",
        "qtd_items_carrinho_compra -= 1\n",
        "print(qtd_items_carrinho_compra)"
      ],
      "metadata": {
        "colab": {
          "base_uri": "https://localhost:8080/"
        },
        "id": "NPTyfmzbLHQz",
        "outputId": "282faa76-498a-4d97-bc7c-1f2aa6ca498f"
      },
      "execution_count": null,
      "outputs": [
        {
          "output_type": "stream",
          "name": "stdout",
          "text": [
            "1\n",
            "0\n"
          ]
        }
      ]
    },
    {
      "cell_type": "markdown",
      "source": [
        "Acima vemos uma versão simplificada desta operação. Colocando apenas o nome da variável, seguida do símbolo da operação mais o sinal de igual e o valor. Evita repetir o nome da variável duas vezes e tornar o código mais extenso."
      ],
      "metadata": {
        "id": "pP9fDdn8Lbml"
      }
    },
    {
      "cell_type": "markdown",
      "source": [
        "**Exemplo 2:** Total a pagar de um produto."
      ],
      "metadata": {
        "id": "jzVN90w5NJsD"
      }
    },
    {
      "cell_type": "code",
      "source": [
        "preco_quilo = 47\n",
        "quantidade = 0.250\n",
        "\n",
        "total_a_pagar = quantidade * preco_quilo\n",
        "print(total_a_pagar)"
      ],
      "metadata": {
        "colab": {
          "base_uri": "https://localhost:8080/"
        },
        "id": "gCAfVrPqNXU8",
        "outputId": "84c9b031-e263-4443-88dc-38b841329da9"
      },
      "execution_count": null,
      "outputs": [
        {
          "output_type": "stream",
          "name": "stdout",
          "text": [
            "11.75\n"
          ]
        }
      ]
    },
    {
      "cell_type": "markdown",
      "source": [
        "Neste exemplo acima temos o uso do operador de multiplicação em uma função para simular o valor do preço a pagar em um produto. São criadas três variáveis. Uma com o valor por unidade, outra com a quantidade que o cliente ira levar e a terceira com a operação de cálculo, multiplicando os dois valores. E por fim o print com o preço final a pagar."
      ],
      "metadata": {
        "id": "5uE4KnpFNyZa"
      }
    },
    {
      "cell_type": "markdown",
      "source": [
        "### **Conversão**"
      ],
      "metadata": {
        "id": "eGXnOp5qR7pT"
      }
    },
    {
      "cell_type": "markdown",
      "source": [
        "Podemos converter os tipos numéricos **int**, **float** e **complex** com as seguintes funções:"
      ],
      "metadata": {
        "id": "StDU0z4GSDWO"
      }
    },
    {
      "cell_type": "code",
      "source": [
        "print(int(3.9))"
      ],
      "metadata": {
        "colab": {
          "base_uri": "https://localhost:8080/"
        },
        "id": "j8QFXTmqSfwe",
        "outputId": "046a25af-ef82-47d9-e726-bb10890bb9c5"
      },
      "execution_count": null,
      "outputs": [
        {
          "output_type": "stream",
          "name": "stdout",
          "text": [
            "3\n"
          ]
        }
      ]
    },
    {
      "cell_type": "code",
      "source": [
        "print(float(10))"
      ],
      "metadata": {
        "colab": {
          "base_uri": "https://localhost:8080/"
        },
        "id": "QNg1cfuQSlZk",
        "outputId": "d667efd8-24d5-471f-ad68-344a18ce88e1"
      },
      "execution_count": null,
      "outputs": [
        {
          "output_type": "stream",
          "name": "stdout",
          "text": [
            "10.0\n"
          ]
        }
      ]
    },
    {
      "cell_type": "code",
      "source": [
        "print(complex(1))"
      ],
      "metadata": {
        "colab": {
          "base_uri": "https://localhost:8080/"
        },
        "id": "D0XCZgkFSq3K",
        "outputId": "98b9a9a3-330c-401c-e8e4-7bb9c2e953a9"
      },
      "execution_count": null,
      "outputs": [
        {
          "output_type": "stream",
          "name": "stdout",
          "text": [
            "(1+0j)\n"
          ]
        }
      ]
    },
    {
      "cell_type": "markdown",
      "source": [
        "### **PRÁTICA - Variáveis numéricas**"
      ],
      "metadata": {
        "id": "fp8li2UfTZZc"
      }
    },
    {
      "cell_type": "markdown",
      "source": [
        "Usando o que aprendemos das funções numéricas até aqui, vamos criar uma tabela para calcular ticket médio de um restaurante durante três dias de funcionamento."
      ],
      "metadata": {
        "id": "9li29bGYTq-f"
      }
    },
    {
      "cell_type": "markdown",
      "source": [
        "- Variável svv = Soma dos valores das vendas\n",
        "- variável sqv = Soma das quantidades de vendas\n",
        "- variável tkt = função de cálculo do ticket\n",
        "- Todas as variáveis vão receber uma numeração referente ao dia que está sendo contabilizado."
      ],
      "metadata": {
        "id": "Gyd8KfWkULhp"
      }
    },
    {
      "cell_type": "markdown",
      "source": [
        "**Ticket médio do dia 19/01.**"
      ],
      "metadata": {
        "id": "mjF5ADFyVdck"
      }
    },
    {
      "cell_type": "code",
      "source": [
        "svv_19 = 153.98\n",
        "sqv_19 = 3\n",
        "\n",
        "tkt_19 = svv_19 / sqv_19\n",
        "print(tkt_19)"
      ],
      "metadata": {
        "colab": {
          "base_uri": "https://localhost:8080/"
        },
        "id": "KfDXGuspVs2g",
        "outputId": "eb0ba169-b004-40ea-ae96-c0c0af4b2cee"
      },
      "execution_count": null,
      "outputs": [
        {
          "output_type": "stream",
          "name": "stdout",
          "text": [
            "51.32666666666666\n"
          ]
        }
      ]
    },
    {
      "cell_type": "markdown",
      "source": [
        "**Ticket médio do dia 20/01.**"
      ],
      "metadata": {
        "id": "eMvnKsbRVme5"
      }
    },
    {
      "cell_type": "code",
      "source": [
        "svv_20 = 337.01\n",
        "sqv_20 = 7\n",
        "\n",
        "tkt_20 = svv_20 / sqv_20\n",
        "print(tkt_20)"
      ],
      "metadata": {
        "colab": {
          "base_uri": "https://localhost:8080/"
        },
        "id": "n5-M_x1NXhVY",
        "outputId": "c2be41b9-7df6-4591-9f49-b368e072f5ee"
      },
      "execution_count": null,
      "outputs": [
        {
          "output_type": "stream",
          "name": "stdout",
          "text": [
            "48.144285714285715\n"
          ]
        }
      ]
    },
    {
      "cell_type": "markdown",
      "source": [
        "**Ticket médio do dia 23/01.**"
      ],
      "metadata": {
        "id": "9m6U2PDJVm3r"
      }
    },
    {
      "cell_type": "code",
      "source": [
        "svv_23 = 295.33\n",
        "sqv_23 = 5\n",
        "\n",
        "tkt_23 = svv_23 / sqv_23\n",
        "print(tkt_23)"
      ],
      "metadata": {
        "colab": {
          "base_uri": "https://localhost:8080/"
        },
        "id": "TFUupFKTXi8f",
        "outputId": "830ca970-9a02-4e45-dfdc-180ad710fdf6"
      },
      "execution_count": null,
      "outputs": [
        {
          "output_type": "stream",
          "name": "stdout",
          "text": [
            "59.065999999999995\n"
          ]
        }
      ]
    },
    {
      "cell_type": "markdown",
      "source": [
        "**Ticket médio:** Agora para saber o valor que um cliente pode gastar em média durante o período destes 3 dias, vamos executar a variável tkt. Está variável vai nos retornar o resultado da soma do ticket médio dos 3 dias contabilizados dividido por 3."
      ],
      "metadata": {
        "id": "3Pd23fmFYG6B"
      }
    },
    {
      "cell_type": "code",
      "source": [
        "tkt = (tkt_19 + tkt_20 + tkt_23) / 3\n",
        "print(tkt)"
      ],
      "metadata": {
        "colab": {
          "base_uri": "https://localhost:8080/"
        },
        "id": "W3GXreW0Y8VY",
        "outputId": "325fdfbd-7b72-4ff1-9e5c-9e9451f8d463"
      },
      "execution_count": null,
      "outputs": [
        {
          "output_type": "stream",
          "name": "stdout",
          "text": [
            "52.8456507936508\n"
          ]
        }
      ]
    },
    {
      "cell_type": "markdown",
      "source": [
        "## **Se aprofundando em Strings.**"
      ],
      "metadata": {
        "id": "PpSD-6eBZ96I"
      }
    },
    {
      "cell_type": "markdown",
      "source": [
        "### **Definição**"
      ],
      "metadata": {
        "id": "8aNFTefOa9Rg"
      }
    },
    {
      "cell_type": "markdown",
      "source": [
        "As strings são simples, elas armazenam textos. Tudo os que estiver em seu valor, entre as aspas(duplas ou simples), será considerado texto. Seu tipo em Python é o **str**."
      ],
      "metadata": {
        "id": "zw6ep5_TfJzZ"
      }
    },
    {
      "cell_type": "code",
      "source": [
        "nome_aula = \"Aula 04, Módulo 01, Strings\"\n",
        "\n",
        "print(nome_aula)\n",
        "print(type(nome_aula))"
      ],
      "metadata": {
        "colab": {
          "base_uri": "https://localhost:8080/"
        },
        "id": "PUQpgaH_fsX_",
        "outputId": "37b8083d-69ad-4962-d017-88a2d76e8f06"
      },
      "execution_count": null,
      "outputs": [
        {
          "output_type": "stream",
          "name": "stdout",
          "text": [
            "Aula 04, Módulo 01, Strings\n",
            "<class 'str'>\n"
          ]
        }
      ]
    },
    {
      "cell_type": "markdown",
      "source": [
        "Mesmo uma string sem textos em suas aspas, uma string vazia, ainda é considerada como uma string."
      ],
      "metadata": {
        "id": "ylunV4XqgZrs"
      }
    },
    {
      "cell_type": "code",
      "source": [
        "string_vazia = \"\"\n",
        "\n",
        "print(string_vazia)\n",
        "print(type(string_vazia))"
      ],
      "metadata": {
        "colab": {
          "base_uri": "https://localhost:8080/"
        },
        "id": "3KF0OBXEf-A3",
        "outputId": "e4d759b0-5c6c-40a7-dced-1b51ff29f0d2"
      },
      "execution_count": null,
      "outputs": [
        {
          "output_type": "stream",
          "name": "stdout",
          "text": [
            "\n",
            "<class 'str'>\n"
          ]
        }
      ]
    },
    {
      "cell_type": "markdown",
      "source": [
        "### **Operações com strings**"
      ],
      "metadata": {
        "id": "ZMSl8Z6ShL0H"
      }
    },
    {
      "cell_type": "markdown",
      "source": [
        "**1 - Concatenação:** Com o uso de strings, e de variáveis com valores de string conectadas por \"+\". Desta forma, o resultado será uma frase ou texto com todos os valores um ao lado do outro.\n",
        "\n"
      ],
      "metadata": {
        "id": "eEtumR6nhZR5"
      }
    },
    {
      "cell_type": "markdown",
      "source": [
        "**Exemplo:** Nome completo"
      ],
      "metadata": {
        "id": "-iNf_SMsiP0E"
      }
    },
    {
      "cell_type": "code",
      "source": [
        "nome = \"André Silva\"\n",
        "sobrenome = \"Soares\"\n",
        "\n",
        "apresentacao = \"Olá, meu nome é \" + nome + \" \" + sobrenome + \".\"\n",
        "print(apresentacao)"
      ],
      "metadata": {
        "colab": {
          "base_uri": "https://localhost:8080/"
        },
        "id": "z9ZEs-yviUmp",
        "outputId": "00cf1fbd-df33-48fc-d167-f0a989adbd04"
      },
      "execution_count": null,
      "outputs": [
        {
          "output_type": "stream",
          "name": "stdout",
          "text": [
            "Olá, meu nome é André Silva Soares.\n"
          ]
        }
      ]
    },
    {
      "cell_type": "markdown",
      "source": [
        "Outra forma de realizar esta concatenação é utilizando o operador de formação(f). Em que no valor da variável, antes das aspas da string, se adiciona o operador \"f\". Ele vai ler o conteúdo entre as aspas e automáticamente trocar todas as variáveis dentro das \"{}\" por seus valores em string."
      ],
      "metadata": {
        "id": "Qtd5nXQ-jeN9"
      }
    },
    {
      "cell_type": "code",
      "source": [
        "nome = \"André Silva\"\n",
        "sobrenome = \"Soares\"\n",
        "\n",
        "apresentacao = f\"Olá, meu nome é {nome} {sobrenome}.\"\n",
        "print(apresentacao)"
      ],
      "metadata": {
        "colab": {
          "base_uri": "https://localhost:8080/"
        },
        "outputId": "44fe1b16-335d-4485-ef04-cd5328153a54",
        "id": "DZdMlocYkWX1"
      },
      "execution_count": null,
      "outputs": [
        {
          "output_type": "stream",
          "name": "stdout",
          "text": [
            "Olá, meu nome é André Silva Soares.\n"
          ]
        }
      ]
    },
    {
      "cell_type": "markdown",
      "source": [
        "**2 - Fatiamento:** Está operação tem como base que toda a string é \"mapeada\", seus caracteres são contados. iniciando de 0 e seguindo até o final. O fatiamento pode então retornar o valor contido de apenas um caracter, uma palavra ou um trecho de uma string. Desde que se saiba selecionar os valores de caracteres certos."
      ],
      "metadata": {
        "id": "J_pihUTllkU-"
      }
    },
    {
      "cell_type": "markdown",
      "source": [
        "Agora vamos definir o valor de uma variável String, e demonstrar exemplos dos métodos de fatiamento."
      ],
      "metadata": {
        "id": "yWAkTIKOmqAT"
      }
    },
    {
      "cell_type": "code",
      "source": [
        "email = \"andre.perez@gmail.com\""
      ],
      "metadata": {
        "id": "62FyyaTdmloG"
      },
      "execution_count": null,
      "outputs": []
    },
    {
      "cell_type": "markdown",
      "source": [
        "**Exemplo de Fatiamento fixo:** Este tipo seleciona um único caracter. Selecionamos a variável e entre \"[ ]\" ao lado, o valor do caracter."
      ],
      "metadata": {
        "id": "_bi7e_2qm6ws"
      }
    },
    {
      "cell_type": "code",
      "source": [
        "email = \"andre.perez@gmail.com\"\n",
        "\n",
        "print(\"0: \" + email[0])\n",
        "print(\"11: \" + email[11])"
      ],
      "metadata": {
        "colab": {
          "base_uri": "https://localhost:8080/"
        },
        "id": "b_Drz4m7opdK",
        "outputId": "8fc2bec0-cfd1-46e2-cce5-4d5fe899f280"
      },
      "execution_count": null,
      "outputs": [
        {
          "output_type": "stream",
          "name": "stdout",
          "text": [
            "0: a\n",
            "11: @\n"
          ]
        }
      ]
    },
    {
      "cell_type": "markdown",
      "source": [
        "Valores de busca negativos vão realizar a busca de trás para frente nos caracteres."
      ],
      "metadata": {
        "id": "CETSNLSMpe3s"
      }
    },
    {
      "cell_type": "code",
      "source": [
        "print(\"-1: \" + email[-1])\n",
        "print(\"-2: \" + email[-2])"
      ],
      "metadata": {
        "colab": {
          "base_uri": "https://localhost:8080/"
        },
        "id": "x3DbxuktpVrC",
        "outputId": "3eae03b6-6a89-446f-f02a-95f49a0b2846"
      },
      "execution_count": null,
      "outputs": [
        {
          "output_type": "stream",
          "name": "stdout",
          "text": [
            "-1: m\n",
            "-2: o\n"
          ]
        }
      ]
    },
    {
      "cell_type": "markdown",
      "source": [
        "**Exemplo de fatiamento por intervalo:** este tipo de fatiamento irá separar e apresentar todos os valores que estiverem no intervalo de números de caracteres pedidos na variável. Um valor representando o início e um outro o fim. Porém se deve ter em mente que o valor de fim é sempre desconsiderado, ele é como um ponto final. Se o seu valor de início é 3 e o valor final é 8, a variável só vai apresentar os caracteres de 3 até 7."
      ],
      "metadata": {
        "id": "WRz9RXTRqYE-"
      }
    },
    {
      "cell_type": "code",
      "source": [
        "email = \"andre.perez@gmail.com\"\n",
        "email_usuario = email[0:11]\n",
        "\n",
        "print(email_usuario)"
      ],
      "metadata": {
        "colab": {
          "base_uri": "https://localhost:8080/"
        },
        "id": "torhOS5ArvjZ",
        "outputId": "c5984da7-216f-45e3-a5e3-2a6df1af45c3"
      },
      "execution_count": null,
      "outputs": [
        {
          "output_type": "stream",
          "name": "stdout",
          "text": [
            "andre.perez\n"
          ]
        }
      ]
    },
    {
      "cell_type": "code",
      "source": [
        "email_provedor = email[12:21]\n",
        "\n",
        "print(email_provedor)"
      ],
      "metadata": {
        "colab": {
          "base_uri": "https://localhost:8080/"
        },
        "id": "7WVUdcEWr_ur",
        "outputId": "7e1bcd3b-4a13-4872-8895-1b602026d201"
      },
      "execution_count": null,
      "outputs": [
        {
          "output_type": "stream",
          "name": "stdout",
          "text": [
            "gmail.com\n"
          ]
        }
      ]
    },
    {
      "cell_type": "markdown",
      "source": [
        "**3 - Métodos:** Os métodos são funções nativas da linguagem Python, eles existem para auxiliar o programador das mais diversas formas. Aqui vamos apresentar apenas os métodos que ajudam em relação as strings."
      ],
      "metadata": {
        "id": "7zyypl2ZtalX"
      }
    },
    {
      "cell_type": "code",
      "source": [
        "# O primeiro é o \"upper\", ele altera todos os caracteres da string para letras maiúsculas.\n",
        "endereco = \"Avenida Paulista, 1811, São Paulo, São Paulo, Brasil.\"\n",
        "print(endereco.upper())"
      ],
      "metadata": {
        "colab": {
          "base_uri": "https://localhost:8080/"
        },
        "id": "TDSNY1LRujJn",
        "outputId": "96242e89-df4b-4ed2-cb91-b49d7db689b2"
      },
      "execution_count": null,
      "outputs": [
        {
          "output_type": "stream",
          "name": "stdout",
          "text": [
            "AVENIDA PAULISTA, 1811, SÃO PAULO, SÃO PAULO, BRASIL.\n"
          ]
        }
      ]
    },
    {
      "cell_type": "code",
      "source": [
        "# Depois temos o \"find\", ele busca o texto que você precisa dentro da string, e lhe retorna a posição do mesmo a partir da numeração do primeiro caracter.\n",
        "posicao = endereco.find(\"brasil\")\n",
        "print(posicao)"
      ],
      "metadata": {
        "colab": {
          "base_uri": "https://localhost:8080/"
        },
        "id": "i1UtYQVFu_-o",
        "outputId": "a051b84a-0dab-4aa7-af54-51f8b633e2cb"
      },
      "execution_count": null,
      "outputs": [
        {
          "output_type": "stream",
          "name": "stdout",
          "text": [
            "-1\n"
          ]
        }
      ]
    },
    {
      "cell_type": "code",
      "source": [
        "# Por último temos o \"replace\", que pode substituir trechos da string.\n",
        "print(endereco.replace(\"Avenida\", \"Av\"))"
      ],
      "metadata": {
        "colab": {
          "base_uri": "https://localhost:8080/"
        },
        "id": "dfCU7MK9wPqL",
        "outputId": "90901a80-0f19-4d9d-e8e2-b0c8207c7fac"
      },
      "execution_count": null,
      "outputs": [
        {
          "output_type": "stream",
          "name": "stdout",
          "text": [
            "Av Paulista, 1811, São Paulo, São Paulo, Brasil.\n"
          ]
        }
      ]
    },
    {
      "cell_type": "markdown",
      "source": [
        "**4 - Conversão:** Muitas vezes vamos precisar pegar informações de strings e usalas, ou alteradas para outros fins. Para isso criamos uma variável em que adicionamos a tipagem para qual queremos converter a tipagem antes do elemento."
      ],
      "metadata": {
        "id": "f9T0EOL12iG0"
      }
    },
    {
      "cell_type": "code",
      "source": [
        "# converter de um númerico inteiro para uma string:\n",
        "idade = 19\n",
        "print(type(idade))\n",
        "\n",
        "idade = str(idade)\n",
        "print(type(idade))"
      ],
      "metadata": {
        "colab": {
          "base_uri": "https://localhost:8080/"
        },
        "id": "cO12pTkS3bKf",
        "outputId": "d5ef403c-fdd9-4a4b-c0a9-d497bd9b893f"
      },
      "execution_count": null,
      "outputs": [
        {
          "output_type": "stream",
          "name": "stdout",
          "text": [
            "<class 'int'>\n",
            "<class 'str'>\n"
          ]
        }
      ]
    },
    {
      "cell_type": "code",
      "source": [
        "# converter de string para numérico inteiro:\n",
        "faturamento = \"R$ 35 mi\"\n",
        "print(faturamento)\n",
        "print(type(faturamento))\n",
        "\n",
        "faturamento = int(faturamento[3:5])\n",
        "print(faturamento)\n",
        "print(type(faturamento))\n",
        "# OBS: importante notar que neste caso, temos que usar fatiamento para selecionar apenas os múmeros da string."
      ],
      "metadata": {
        "colab": {
          "base_uri": "https://localhost:8080/"
        },
        "id": "h95aZBv93w7K",
        "outputId": "10fe11fc-a477-451f-8518-0f64a5afcd31"
      },
      "execution_count": null,
      "outputs": [
        {
          "output_type": "stream",
          "name": "stdout",
          "text": [
            "R$ 35 mi\n",
            "<class 'str'>\n",
            "35\n",
            "<class 'int'>\n"
          ]
        }
      ]
    },
    {
      "cell_type": "markdown",
      "source": [
        "### **PRÁTICA - Strings**"
      ],
      "metadata": {
        "id": "sjLrEXoCa9n3"
      }
    },
    {
      "cell_type": "markdown",
      "source": [
        "A empresa em que você trabalha comprou uma startup de logística. Você precisa identificar todos os endereços que são comuns a ambas. Na sua empresa, você armazena a latitude e a longitude dos endereços em duas variáveis, \"lat\" e \"lon\", já a startup adquirida em uma única variável \"latlon\"."
      ],
      "metadata": {
        "id": "WpoYWFUzbFgE"
      }
    },
    {
      "cell_type": "code",
      "source": [
        "# sua empresa\n",
        "lat = \"-22.005320\"\n",
        "lon = \"-47.891040\"\n",
        "\n",
        "# startup adquirida\n",
        "latlon = \"-22.005320;-47.891040\""
      ],
      "metadata": {
        "id": "OoHUTqlnbu2W"
      },
      "execution_count": null,
      "outputs": []
    },
    {
      "cell_type": "markdown",
      "source": [
        "Como podemos normalizar a forma com que as latitudes e longitudes são armazenadas para que possam ser comparadas?"
      ],
      "metadata": {
        "id": "gyne6CtxcUIv"
      }
    },
    {
      "cell_type": "markdown",
      "source": [
        "Vamos pegar a variável \"latlon\" da startup e vamos separar seus valores de latitude e longitude, para poder comparar com os valores já arquivados na empresa. Para isso primeiro temos que identificar a numeração de posição do caracter \";\" que separa os valores de latlon. Então vamos começar usando o método \"find\"."
      ],
      "metadata": {
        "id": "XixS6AwT5UmR"
      }
    },
    {
      "cell_type": "code",
      "source": [
        "#localizando o \";\" com o find:\n",
        "latlon = \"-22.005320;-47.891040\"\n",
        "\n",
        "posicao_char_divisao = latlon.find(\";\")\n",
        "print(posicao_char_divisao)"
      ],
      "metadata": {
        "colab": {
          "base_uri": "https://localhost:8080/"
        },
        "id": "0KTAkm8b6A3c",
        "outputId": "038611c8-b353-4af7-a1fc-1d8f15f4ac7b"
      },
      "execution_count": null,
      "outputs": [
        {
          "output_type": "stream",
          "name": "stdout",
          "text": [
            "10\n"
          ]
        }
      ]
    },
    {
      "cell_type": "markdown",
      "source": [
        "Ok, agora com esta informação podemos usar o metodo de fatiamento para separar os valores. Para latitude, basta usar o fatiamento e selecionar os caracteres de 0 até 10, que foi o resultado apresentado por \"posicao_char_divisao\"."
      ],
      "metadata": {
        "id": "rgf1k1w-6ghY"
      }
    },
    {
      "cell_type": "code",
      "source": [
        "#Extraindo a latitude com o fatiamento:\n",
        "lat_startup = latlon[0:10]\n",
        "print(lat_startup)"
      ],
      "metadata": {
        "colab": {
          "base_uri": "https://localhost:8080/"
        },
        "id": "XoJqUmqC7EQw",
        "outputId": "4269ba45-0ca0-49f6-973a-b5d13e129324"
      },
      "execution_count": null,
      "outputs": [
        {
          "output_type": "stream",
          "name": "stdout",
          "text": [
            "-22.005320\n"
          ]
        }
      ]
    },
    {
      "cell_type": "markdown",
      "source": [
        "Para conseguirmos a longitude vamos usar um processo parecido, mas com dois pontos a adicionar. O primeiro é que temos que atentar a pegar o valor seguinte ao do posicionamento de \";\" para o início do fatiamento. O segundo ponto é que vamos usar um método novo, o **\"len\"** para descobrir o valor do último caracter da string. Podemos só contar os número de caracteres e não usar ele, mas em casos de strings grandes, isso não é viável."
      ],
      "metadata": {
        "id": "LkqsyHeI7mYs"
      }
    },
    {
      "cell_type": "code",
      "source": [
        "lon_startup = latlon[11:len(latlon)]\n",
        "print(lon_startup)"
      ],
      "metadata": {
        "colab": {
          "base_uri": "https://localhost:8080/"
        },
        "id": "GFhzYfJ88v7h",
        "outputId": "a31201b1-1e37-4cfb-9d5c-9313f6db3ab7"
      },
      "execution_count": null,
      "outputs": [
        {
          "output_type": "stream",
          "name": "stdout",
          "text": [
            "-47.891040\n"
          ]
        }
      ]
    },
    {
      "cell_type": "markdown",
      "source": [
        "Assim conseguindo os dois valores em separado para as devidas comparações."
      ],
      "metadata": {
        "id": "uIggMo6f9yBe"
      }
    },
    {
      "cell_type": "markdown",
      "source": [
        "## **Se aprofundando em Boleanos.**"
      ],
      "metadata": {
        "id": "V3lofP13VnSl"
      }
    },
    {
      "cell_type": "markdown",
      "source": [
        "### **Definição**"
      ],
      "metadata": {
        "id": "csIhQAw5YTwM"
      }
    },
    {
      "cell_type": "markdown",
      "source": [
        "Os booleanos são variáveis que armazenam **valores lógicos** de *True* ou *False*, que seria verdadeiro ou falso, pode-se entender como sim ou não também."
      ],
      "metadata": {
        "id": "rI0rXRujYmD-"
      }
    },
    {
      "cell_type": "markdown",
      "source": [
        "Basta criar uma variável, e atribuir o True ou False, dependendo da condição da variável. Os valores dos boleanos podem parecer strings, mas não são, tanto que não são escritos em aspas. E são apresentados em cor diferente no Python. Estes valores são conhecidos como **palavras reservadas** do sistema. São palavras que o programador só pode utilizar em situações delimitadas pela linguagem. Pois ela precisa destas palavras para executar funcionalidades. Exemplos são as palavras \"print\", \"type\", \"len\" e True/false que vimos até agora."
      ],
      "metadata": {
        "id": "La28RLTQZDSt"
      }
    },
    {
      "cell_type": "code",
      "source": [
        "verdadeiro = True\n",
        "print(verdadeiro)\n",
        "\n",
        "falso = False\n",
        "print(falso)\n",
        "\n",
        "# No python estas variáveis são conhecidas pelo tipo(type) \"bool\".\n",
        "print(type(True))"
      ],
      "metadata": {
        "colab": {
          "base_uri": "https://localhost:8080/"
        },
        "id": "wx6ChSTxanyb",
        "outputId": "7fa3fa83-3092-4027-c698-f6b4cb1e4fd3"
      },
      "execution_count": null,
      "outputs": [
        {
          "output_type": "stream",
          "name": "stdout",
          "text": [
            "True\n",
            "False\n",
            "<class 'bool'>\n"
          ]
        }
      ]
    },
    {
      "cell_type": "markdown",
      "source": [
        "O uso destas variáveis são em grande parte para apresentar o resultado de comparações lógicas em funções dentro da programação. Se comparam duas ou mais variáveis com um destes operadores, e o retorno é um boleano de True ou False.\n",
        "\n",
        "1. Maior: **>**\n",
        "2. Menor: **<**\n",
        "3. igual: **==**\n",
        "4. Maior ou igual: **>=**\n",
        "5. Menor ou igual: **<=**\n",
        "6. Diferente: **!=**\n",
        "\n"
      ],
      "metadata": {
        "id": "40SNeWfubkCv"
      }
    },
    {
      "cell_type": "markdown",
      "source": [
        "**Exemplos 01 sobre uso de boleanos:** Caixa eletrônico"
      ],
      "metadata": {
        "id": "MiydL9ZqeLBv"
      }
    },
    {
      "cell_type": "code",
      "source": [
        "# vamos simular um saque em uma conta bancária.\n",
        "saldo_em_conta = 200\n",
        "valor_do_saque = 100\n",
        "\n",
        "# A variável abaixo ira executar o comparador lógico de menor ou igual(<=), e ira responder com um boleano.\n",
        "pode_executar_saque = valor_do_saque <= saldo_em_conta\n",
        "print(pode_executar_saque)"
      ],
      "metadata": {
        "colab": {
          "base_uri": "https://localhost:8080/"
        },
        "id": "RQAc2DKgeYWE",
        "outputId": "3bc75c84-588a-49d3-e42c-cc58af67ad64"
      },
      "execution_count": null,
      "outputs": [
        {
          "output_type": "stream",
          "name": "stdout",
          "text": [
            "True\n"
          ]
        }
      ]
    },
    {
      "cell_type": "markdown",
      "source": [
        "**Exemplos 02 sobre uso de boleanos:** Cartão de crédito CV"
      ],
      "metadata": {
        "id": "ECMf3eROfUhw"
      }
    },
    {
      "cell_type": "code",
      "source": [
        "# vamos simular uma conferência de código de segurnaça do cartão, para validar uma compra.\n",
        "codigo_de_seguranca = \"852\"\n",
        "codigo_de_seguranca_cadastrado = \"010\"\n",
        "\n",
        "# A variável abaixo ira executar o comparador lógico de igualdade(==), e ira responder com um boleano.\n",
        "pode_efetuar_pagamento = codigo_de_seguranca == codigo_de_seguranca_cadastrado\n",
        "print(pode_efetuar_pagamento)"
      ],
      "metadata": {
        "colab": {
          "base_uri": "https://localhost:8080/"
        },
        "outputId": "f9ad8401-d5bb-4eab-e940-eeb0278c939e",
        "id": "STsL_SLkfm4H"
      },
      "execution_count": null,
      "outputs": [
        {
          "output_type": "stream",
          "name": "stdout",
          "text": [
            "False\n"
          ]
        }
      ]
    },
    {
      "cell_type": "markdown",
      "source": [
        "### **Operadores em Boleanos**"
      ],
      "metadata": {
        "id": "ba8ZxjEOrNpO"
      }
    },
    {
      "cell_type": "markdown",
      "source": [
        "Os operadores que exclusivamente atuam em variáveis boleanas são:\n",
        "\n",
        "\n",
        "1. Operador \"ou\": **|**\n",
        "2. Operador \"e\": **&**\n",
        "3. Operador \"não\": **not**\n",
        "\n"
      ],
      "metadata": {
        "id": "BXJsUv3ah8N7"
      }
    },
    {
      "cell_type": "markdown",
      "source": [
        "Quando utilizamos este operadores acima em variáveis boleanas para funções lógicas, o resultado é geralmente conhecido como a **\"tabela da verdade\"**."
      ],
      "metadata": {
        "id": "sI1i-1raiaOB"
      }
    },
    {
      "cell_type": "markdown",
      "source": [
        "Se **A** e **B** forem **True**\n",
        "\n",
        "1. A OR B = TRUE\n",
        "2. A AND B = TRUE\n",
        "3. NOT A = FALSE\n",
        "\n",
        "\n",
        "\n"
      ],
      "metadata": {
        "id": "FanhyA3KnckO"
      }
    },
    {
      "cell_type": "markdown",
      "source": [
        "Se **A** for **True** e **B** for **False**\n",
        "\n",
        "1. A OR B = TRUE\n",
        "2. A AND B = FALSE\n",
        "3. NOT A = FALSE\n",
        "\n",
        "\n",
        "\n"
      ],
      "metadata": {
        "id": "9QTCm7nYoK70"
      }
    },
    {
      "cell_type": "markdown",
      "source": [
        "Se **A** e **B** forem **False**\n",
        "\n",
        "1. A OR B = FALSE\n",
        "2. A AND B = FALSE\n",
        "3. NOT A = TRUE\n",
        "\n",
        "\n",
        "\n"
      ],
      "metadata": {
        "id": "eLeQxINHogC-"
      }
    },
    {
      "cell_type": "markdown",
      "source": [
        "Se **A** for **False** e **B** for **True**\n",
        "\n",
        "1. A OR B = TRUE\n",
        "2. A AND B = FALSE\n",
        "3. NOT A = TRUE\n",
        "\n",
        "\n",
        "\n"
      ],
      "metadata": {
        "id": "Etl3pszroov7"
      }
    },
    {
      "cell_type": "markdown",
      "source": [
        "**Exemplo:** Tabela da verdade para todos os operadores"
      ],
      "metadata": {
        "id": "l6TWovuHpl5q"
      }
    },
    {
      "cell_type": "code",
      "source": [
        "# Tabela para o operador \"ou\": |\n",
        "print(True | True)\n",
        "print(True | False)\n",
        "print(False | False)\n",
        "print(False | True)"
      ],
      "metadata": {
        "colab": {
          "base_uri": "https://localhost:8080/"
        },
        "id": "Y3kCknQFpylQ",
        "outputId": "6a27b4ba-dd81-44b5-d997-e6532300c7cf"
      },
      "execution_count": null,
      "outputs": [
        {
          "output_type": "stream",
          "name": "stdout",
          "text": [
            "True\n",
            "True\n",
            "False\n",
            "True\n"
          ]
        }
      ]
    },
    {
      "cell_type": "code",
      "source": [
        "# Tabela para o operador \"e\": &\n",
        "print(True & True)\n",
        "print(True & False)\n",
        "print(False & False)\n",
        "print(False & True)"
      ],
      "metadata": {
        "colab": {
          "base_uri": "https://localhost:8080/"
        },
        "outputId": "2fb0323c-d529-4e65-f5eb-99e690433b7a",
        "id": "0hAw5EH_qYjz"
      },
      "execution_count": null,
      "outputs": [
        {
          "output_type": "stream",
          "name": "stdout",
          "text": [
            "True\n",
            "False\n",
            "False\n",
            "False\n"
          ]
        }
      ]
    },
    {
      "cell_type": "code",
      "source": [
        "# Tabela para o operador \"não\": not\n",
        "print(not True)\n",
        "print(not False)"
      ],
      "metadata": {
        "colab": {
          "base_uri": "https://localhost:8080/"
        },
        "outputId": "fe6df0d4-8a65-44c3-de78-1b900bdb1237",
        "id": "tebdcfkZqbq8"
      },
      "execution_count": null,
      "outputs": [
        {
          "output_type": "stream",
          "name": "stdout",
          "text": [
            "False\n",
            "True\n"
          ]
        }
      ]
    },
    {
      "cell_type": "markdown",
      "source": [
        "### **Conversão - Boleanos**"
      ],
      "metadata": {
        "id": "15c0Fq7urdmf"
      }
    },
    {
      "cell_type": "markdown",
      "source": [
        "Podemos converter variados tipos para o tipo boleano. E eles vão ter seus retornos **True/False** dependendo dos valores em suas variáveis. Podemos realizar a conversão através do método Nativo **\"bool\"**."
      ],
      "metadata": {
        "id": "_LTWvPj9r-fm"
      }
    },
    {
      "cell_type": "code",
      "source": [
        "idade = 19\n",
        "tipo_sangue = \"O-\"\n",
        "filhos = 0\n",
        "telefone_fixo = None\n",
        "telefone_numero_fixo = \"\"\n",
        "\n",
        "print(bool(idade)) # Retorna True por, que tem um número no valor\n",
        "print(bool(tipo_sangue)) # Retorna True, por que tem algo escrito entre as aspas\n",
        "print(bool(filhos)) # Retorna False, porque 0 e números negativos são tratados como false\n",
        "print(bool(telefone_fixo)) # Retorna False, porque \"None\" é tratado como false\n",
        "print(bool(telefone_numero_fixo)) # Retorna False, porque aspas sem caracteres é tratado como false"
      ],
      "metadata": {
        "colab": {
          "base_uri": "https://localhost:8080/"
        },
        "id": "LbEXaT9Cs-7q",
        "outputId": "7acc5463-7688-4b62-9e4c-fbbe3b795ac4"
      },
      "execution_count": null,
      "outputs": [
        {
          "output_type": "stream",
          "name": "stdout",
          "text": [
            "True\n",
            "True\n",
            "False\n",
            "False\n",
            "False\n"
          ]
        }
      ]
    },
    {
      "cell_type": "markdown",
      "source": [
        "### **PRÁTICA - Boleanos**"
      ],
      "metadata": {
        "id": "HquqKv0nV1GT"
      }
    },
    {
      "cell_type": "markdown",
      "source": [
        "Em sites, o uso de sistemas de login para controle de acesso é de prática bem comum. Em geral eles fazem uso de dois dados para liberar o acesso, o usuário e a senha."
      ],
      "metadata": {
        "id": "9MvRlnDkWUPm"
      }
    },
    {
      "cell_type": "code",
      "source": [
        "usuario = \"andre.perez\"\n",
        "senha = \"andre123\""
      ],
      "metadata": {
        "id": "O4Mcg29pWsN1"
      },
      "execution_count": null,
      "outputs": []
    },
    {
      "cell_type": "markdown",
      "source": [
        "No servidor, o sistema backend tem em seu banco de dados de usuários todas as informações concedidas na hora do cadastro."
      ],
      "metadata": {
        "id": "2AcYI_lAW07J"
      }
    },
    {
      "cell_type": "code",
      "source": [
        "usuario_cadastro = \"andre.perez\"\n",
        "senha_cadastro = \"andre321\""
      ],
      "metadata": {
        "id": "RFzEyap3XNQA"
      },
      "execution_count": null,
      "outputs": []
    },
    {
      "cell_type": "markdown",
      "source": [
        "Como podemos realizar a comparação das informações para poder conceder acesso ou não ao usuário?"
      ],
      "metadata": {
        "id": "pomDeEMVXW1K"
      }
    },
    {
      "cell_type": "markdown",
      "source": [
        "Para iniciar está comparação primeiro precisamos criar duas varáveis. Uma para executar o comparador de igualdade no nome de usuário e outra para realizar mesmo processo na senha."
      ],
      "metadata": {
        "id": "pNPlgGbRu-Qq"
      }
    },
    {
      "cell_type": "code",
      "source": [
        "usuario = \"andre.perez\"\n",
        "senha = \"andre123\"\n",
        "\n",
        "usuario_cadastro = \"andre.perez\"\n",
        "senha_cadastro = \"andre321\"\n",
        "\n",
        "usuario_igual = usuario == usuario_cadastro\n",
        "senha_igual = senha == senha_cadastro\n",
        "\n",
        "print(usuario_igual)\n",
        "print(senha_igual)"
      ],
      "metadata": {
        "colab": {
          "base_uri": "https://localhost:8080/"
        },
        "id": "iWQnZ5TUvXyc",
        "outputId": "a5e8573f-7415-468c-9172-a1f38e03c480"
      },
      "execution_count": null,
      "outputs": [
        {
          "output_type": "stream",
          "name": "stdout",
          "text": [
            "True\n",
            "False\n"
          ]
        }
      ]
    },
    {
      "cell_type": "markdown",
      "source": [
        "Agora temos que criar uma operação lógica, que só possa conceder o acesso ao usuário após conferir se tanto o resultado de **\"usuario_igual\"** quanto o resuldade de **\"senha_igual\"** forem True."
      ],
      "metadata": {
        "id": "56bVzylWwSCS"
      }
    },
    {
      "cell_type": "code",
      "source": [
        "usuario = \"andre.perez\"\n",
        "senha = \"andre123\"\n",
        "\n",
        "usuario_cadastro = \"andre.perez\"\n",
        "senha_cadastro = \"andre321\"\n",
        "\n",
        "usuario_igual = usuario == usuario_cadastro\n",
        "senha_igual = senha == senha_cadastro\n",
        "\n",
        "conceder_acesso = usuario_igual & senha_igual\n",
        "print(conceder_acesso)"
      ],
      "metadata": {
        "colab": {
          "base_uri": "https://localhost:8080/"
        },
        "id": "kC2TDYrGw-UL",
        "outputId": "9426767c-787c-4f2b-a45e-51766dce110c"
      },
      "execution_count": null,
      "outputs": [
        {
          "output_type": "stream",
          "name": "stdout",
          "text": [
            "False\n"
          ]
        }
      ]
    },
    {
      "cell_type": "markdown",
      "source": [
        "Com o operador Lógico \"and\"(&). Podemos resolver está questão!"
      ],
      "metadata": {
        "id": "gF6dGBflxVbW"
      }
    }
  ]
}